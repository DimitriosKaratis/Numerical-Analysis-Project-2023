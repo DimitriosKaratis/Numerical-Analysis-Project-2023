{
 "cells": [
  {
   "cell_type": "markdown",
   "id": "afefb89b",
   "metadata": {},
   "source": [
    "# PROJECT NUMERICAL ANALYSIS 2023 \n",
    "## Karatis Dimitrios\n"
   ]
  },
  {
   "cell_type": "markdown",
   "id": "9548db0d",
   "metadata": {},
   "source": [
    "# <font color = 'red'> <u> PART A:</u> </font>"
   ]
  },
  {
   "cell_type": "markdown",
   "id": "38b74868",
   "metadata": {},
   "source": [
    "## Creating and testing QR and LU decomposition methods."
   ]
  },
  {
   "cell_type": "code",
   "execution_count": 1,
   "id": "3af8bbec",
   "metadata": {},
   "outputs": [],
   "source": [
    "import numpy as np\n",
    "\n",
    "def LUmine(A):\n",
    "    # Convert matrix A into float type.\n",
    "    A = A.astype(float)\n",
    "    # The dimention of the nxn square matrix A I want to factorize.\n",
    "    n = A.shape[0]\n",
    "    # Initialize the lower triangular matrix L as an identity matrix.\n",
    "    L = np.identity(n)\n",
    "    # Initialize the upper triangular matrix U using the same values as A.\n",
    "    U = A\n",
    "    for j in range(0,n-1):\n",
    "        for i in range(j+1,n):\n",
    "            # Find the suitable coefficient in order to execute the corresponding elementary row operation\n",
    "            # needed to implement gauss elimination method.\n",
    "            mult = A[i,j] / A[j,j]\n",
    "            A[i,j+1:n] = A[i,j+1:n] - mult * A[j,j+1:n]\n",
    "            U[i,j+1:n] = A[i,j+1:n]\n",
    "            # Initialize the matrix L using the previously found coefficient.\n",
    "            L[i,j] = mult\n",
    "            # Lastly, set all the none initialized entries of matrix U equal to zero.\n",
    "            U[i,j] = 0\n",
    "    # Return the requested lower and upper triangular matrices L and U.\n",
    "    return L,U"
   ]
  },
  {
   "cell_type": "markdown",
   "id": "06dc9016",
   "metadata": {},
   "source": [
    "<font size=\"4\">Code to test LUmine function using np.linalg.norm() method.</font>"
   ]
  },
  {
   "cell_type": "code",
   "execution_count": 2,
   "id": "ef45a232",
   "metadata": {},
   "outputs": [
    {
     "name": "stdout",
     "output_type": "stream",
     "text": [
      "[[ 1.   0.   0. ]\n",
      " [ 3.   1.   0. ]\n",
      " [ 2.  -0.5  1. ]]\n",
      "\n",
      "\n",
      "[[ 1.   2.   1. ]\n",
      " [ 0.  -2.  -1. ]\n",
      " [ 0.   0.  -1.5]]\n",
      "\n",
      "\n",
      "0.0\n"
     ]
    }
   ],
   "source": [
    "A = np.array([[1, 2, 1], [3, 4, 2],[2, 5, 1]])\n",
    "L,U = LUmine(A)\n",
    "print(L)\n",
    "print(\"\\n\")\n",
    "print(U)\n",
    "print(\"\\n\")\n",
    "# Print the absolute \"difference\" between A and L * U matrix.\n",
    "# Ideally it should be equal to zero.\n",
    "print(np.linalg.norm(A - L @ U))"
   ]
  },
  {
   "cell_type": "code",
   "execution_count": 3,
   "id": "fa65eff4",
   "metadata": {},
   "outputs": [],
   "source": [
    "import numpy as np\n",
    "\n",
    "def QRmine(A):\n",
    "    # Convert matrix A into float type.\n",
    "    A = A.astype(float)\n",
    "    # The dimention of the nxn square matrix A I want to decompose.\n",
    "    n = A.shape[0]\n",
    "    # Initialize the orthogonal matrix Q with zeros.\n",
    "    Q = np.zeros((n,n))\n",
    "    for j in range(n):\n",
    "        # At the beggining of each iteration, set the u vector equal to the jth column of matrix A.\n",
    "        u = A[:,j]\n",
    "        for i in range(j):\n",
    "            # Modify the vector u accordingly.\n",
    "            length_of_leg = np.sum(A[:,j].T @ Q[:,i])\n",
    "            u = u - (length_of_leg * Q[:,i])\n",
    "        # Initializing the columns of matrix Q using the unit vector.\n",
    "        Q[:,j] = u / np.linalg.norm(u)\n",
    "    # Lastly get the R matrix using the formula: R = INVERSE(Q) * A.\n",
    "    R = np.linalg.inv(Q) @ A\n",
    "    return Q,R"
   ]
  },
  {
   "cell_type": "markdown",
   "id": "cb33dcb3",
   "metadata": {},
   "source": [
    "<font size=\"4\"> Code to test QRmine function using np.linalg.norm() method. </font>"
   ]
  },
  {
   "cell_type": "code",
   "execution_count": 4,
   "id": "7792fb8f",
   "metadata": {},
   "outputs": [
    {
     "name": "stdout",
     "output_type": "stream",
     "text": [
      "[[ 0.26726124  0.14547859  0.95257934]\n",
      " [ 0.80178373 -0.58191437 -0.13608276]\n",
      " [ 0.53452248  0.80013226 -0.27216553]]\n",
      "\n",
      "\n",
      "[[ 3.74165739e+00  6.41426981e+00  2.40535118e+00]\n",
      " [ 0.00000000e+00  1.96396101e+00 -2.18217890e-01]\n",
      " [ 1.11022302e-16  0.00000000e+00  4.08248290e-01]]\n",
      "\n",
      "\n",
      "5.874748045952207e-16\n"
     ]
    }
   ],
   "source": [
    "A = np.array([[1, 2, 1], [3, 4, 2],[2, 5, 1]])\n",
    "Q,R = QRmine(A)\n",
    "print(Q)\n",
    "print(\"\\n\")\n",
    "print(R)\n",
    "print(\"\\n\")\n",
    "# Print the absolute \"difference\" between A and Q * R matrix.\" \n",
    "# Ideally it should be equal to zero.\n",
    "print(np.linalg.norm(A - Q @ R))"
   ]
  },
  {
   "cell_type": "markdown",
   "id": "dd4f1d43",
   "metadata": {},
   "source": [
    "## (a) Creating and testing a function that constructs hilbert matrices."
   ]
  },
  {
   "cell_type": "code",
   "execution_count": 5,
   "id": "7d45973f",
   "metadata": {},
   "outputs": [],
   "source": [
    "# Creating a function to construct a Hilbert matrix.  \n",
    "def hilbert(n):\n",
    "    # Create a nxn matrix full of zeros.\n",
    "    H = np.zeros((n,n))\n",
    "    for i in range(n):\n",
    "        for j in range(n):\n",
    "            H[i,j] = 1 / (i + j +1)\n",
    "    return H  "
   ]
  },
  {
   "cell_type": "code",
   "execution_count": 6,
   "id": "7ae4e3b7",
   "metadata": {},
   "outputs": [
    {
     "name": "stdout",
     "output_type": "stream",
     "text": [
      "[[1.         0.5        0.33333333 0.25      ]\n",
      " [0.5        0.33333333 0.25       0.2       ]\n",
      " [0.33333333 0.25       0.2        0.16666667]\n",
      " [0.25       0.2        0.16666667 0.14285714]]\n",
      "\n",
      "\n",
      "[[1.         0.5        0.33333333]\n",
      " [0.5        0.33333333 0.25      ]\n",
      " [0.33333333 0.25       0.2       ]]\n"
     ]
    }
   ],
   "source": [
    "print(hilbert(4))\n",
    "print(\"\\n\")\n",
    "print(hilbert(3))"
   ]
  },
  {
   "cell_type": "markdown",
   "id": "a73a2815",
   "metadata": {},
   "source": [
    "## (b) Creating functions to solve a generic Ax=b system, using LU and QR decomposition."
   ]
  },
  {
   "cell_type": "code",
   "execution_count": 7,
   "id": "845f176d",
   "metadata": {},
   "outputs": [],
   "source": [
    "# Computing the solution vector y by solving Ly = b.\n",
    "def forward_sub(L, b):\n",
    "    y = np.zeros(len(b))\n",
    "    for i in range(len(b)):\n",
    "        y[i] = b[i]\n",
    "        for j in range(i):\n",
    "            y[i] = y[i] - (L[i, j] * y[j])\n",
    "        y[i] = y[i] / L[i, i]\n",
    "    return y    "
   ]
  },
  {
   "cell_type": "code",
   "execution_count": 8,
   "id": "5322e8ee",
   "metadata": {},
   "outputs": [],
   "source": [
    "# Computing the solution vector x by solving Ux = y.\n",
    "def backward_sub(U, y):\n",
    "    x = np.zeros(len(y))\n",
    "    for i in range(len(y), 0, -1):\n",
    "        x[i-1] = (y[i-1] - np.dot(U[i-1, i:], x[i:])) / U[i-1, i-1]\n",
    "    return x"
   ]
  },
  {
   "cell_type": "code",
   "execution_count": 9,
   "id": "dd27ba25",
   "metadata": {},
   "outputs": [],
   "source": [
    "# Finally solving the system using LU factorization.\n",
    "def solve_Axb_LU(H,b):\n",
    "    L,U = LUmine(H)\n",
    "    y = forward_sub(L,b)\n",
    "    x = backward_sub(U,y)\n",
    "    return x"
   ]
  },
  {
   "cell_type": "code",
   "execution_count": 10,
   "id": "3dc4a842",
   "metadata": {},
   "outputs": [
    {
     "name": "stdout",
     "output_type": "stream",
     "text": [
      "[ 2.26        0.89333333 -2.51333333]\n"
     ]
    }
   ],
   "source": [
    "b = np.array([6,-4,27])\n",
    "A = np.array([[1,7,1],[3,2,5],[1,8,-7]])\n",
    "\n",
    "print(solve_Axb_LU(A,b))"
   ]
  },
  {
   "cell_type": "code",
   "execution_count": 11,
   "id": "f2dc0bff",
   "metadata": {},
   "outputs": [],
   "source": [
    "# Solving the system using QR factorization.\n",
    "def solve_Axb_QR(A,b):\n",
    "    Q,R = QRmine(A)\n",
    "    k =  np.linalg.inv(Q) @ b\n",
    "    x = backward_sub(R,k)\n",
    "    return x"
   ]
  },
  {
   "cell_type": "code",
   "execution_count": 12,
   "id": "1bd52ce8",
   "metadata": {},
   "outputs": [
    {
     "name": "stdout",
     "output_type": "stream",
     "text": [
      "[ 2.26        0.89333333 -2.51333333]\n"
     ]
    }
   ],
   "source": [
    "b = np.array([6,-4,27])\n",
    "A = np.array([[1,7,1],[3,2,5],[1,8,-7]])\n",
    "\n",
    "print(solve_Axb_QR(A,b))"
   ]
  },
  {
   "cell_type": "markdown",
   "id": "f36cf9c2",
   "metadata": {},
   "source": [
    "## Solving the system Hx=b , where b: a 1xn vector populated with the numerical value of 1."
   ]
  },
  {
   "cell_type": "code",
   "execution_count": 13,
   "id": "2961ceaa",
   "metadata": {},
   "outputs": [],
   "source": [
    "# Solving the system Hx=b using LU decomposition method.\n",
    "# For n, a nxn hilbert matrix H and a 1xn vector b, populated with the numerical value of one.\n",
    "def solve_Hxb_LU(n):\n",
    "    b = np.ones((n,1))\n",
    "    H = hilbert(n)\n",
    "    x = solve_Axb_LU(H,b)\n",
    "    return x"
   ]
  },
  {
   "cell_type": "code",
   "execution_count": 14,
   "id": "794537c3",
   "metadata": {},
   "outputs": [
    {
     "name": "stdout",
     "output_type": "stream",
     "text": [
      "[  3. -24.  30.]\n"
     ]
    }
   ],
   "source": [
    "n = 3\n",
    "x = solve_Hxb_LU(3)\n",
    "print(x)"
   ]
  },
  {
   "cell_type": "markdown",
   "id": "1bf92aa3",
   "metadata": {},
   "source": [
    "<font size=\"3\"> (c) By making a minuscule adjustment to the initial values of vector b, we see that the result provided by the computer remains the same as before. This phenomenon can partially be attributed to the utilization of floating-point arithmetic and approximations that machines use. </font>"
   ]
  },
  {
   "cell_type": "code",
   "execution_count": 15,
   "id": "feb94e3e",
   "metadata": {},
   "outputs": [],
   "source": [
    "# Solving the system Hx=b using LU decomposition method.\n",
    "# For n, a nxn hilbert matrix H and a 1xn vector b, populated with the numerical value of one.\n",
    "def solve_Hxbnew_LU(n):\n",
    "    b = np.ones((n,1))\n",
    "    # Change the first value of vector b ever so slightly.\n",
    "    bnew = b\n",
    "    bnew[0] = 1 + 10**(-15)\n",
    "    H = hilbert(n)\n",
    "    xnew = solve_Axb_LU(H,bnew)\n",
    "    return xnew"
   ]
  },
  {
   "cell_type": "code",
   "execution_count": 16,
   "id": "a6943bb4",
   "metadata": {},
   "outputs": [
    {
     "name": "stdout",
     "output_type": "stream",
     "text": [
      "[  3. -24.  30.]\n"
     ]
    }
   ],
   "source": [
    "n = 3\n",
    "xnew = solve_Hxbnew_LU(n)\n",
    "print(xnew)"
   ]
  },
  {
   "cell_type": "code",
   "execution_count": 17,
   "id": "db608d1d",
   "metadata": {},
   "outputs": [],
   "source": [
    "# Function to calculate the difference between x and xnew.\n",
    "def error_x_xnew(x,xnew):\n",
    "    return np.max(np.abs(np.subtract(x,xnew)))"
   ]
  },
  {
   "cell_type": "markdown",
   "id": "15440d7d",
   "metadata": {},
   "source": [
    "<font size=\"3\"> Although we get the same x value as before (x = xnew), by calculating the max absolute value of the difference between the two vectors, x and xnew, we can see that the result isn't zero as we might've expected but rather a really small number, close to zero, but never actually zero. </font>"
   ]
  },
  {
   "cell_type": "code",
   "execution_count": 18,
   "id": "6e6915ad",
   "metadata": {},
   "outputs": [
    {
     "name": "stdout",
     "output_type": "stream",
     "text": [
      "2.1316282072803006e-14\n"
     ]
    }
   ],
   "source": [
    "# Printing the 'error', specifically the differnce between x and xnew, \n",
    "# using LU factorization method for values of n that are considered 'small'.\n",
    "print(error_x_xnew(x,xnew))"
   ]
  },
  {
   "cell_type": "code",
   "execution_count": 19,
   "id": "0d527b1b",
   "metadata": {},
   "outputs": [],
   "source": [
    "# Solving the system Hx=b using QR decomposition method.\n",
    "# For n, a nxn hilbert matrix H and a 1xn vector b, populated with the numerical value of one.\n",
    "def solve_Hxb_QR(n):\n",
    "    b = np.ones((n,1))\n",
    "    H = hilbert(n)\n",
    "    x = solve_Axb_QR(H,b)\n",
    "    return x"
   ]
  },
  {
   "cell_type": "code",
   "execution_count": 20,
   "id": "f9613a22",
   "metadata": {},
   "outputs": [
    {
     "name": "stdout",
     "output_type": "stream",
     "text": [
      "[  3. -24.  30.]\n"
     ]
    }
   ],
   "source": [
    "n = 3\n",
    "x = solve_Hxb_QR(3)\n",
    "print(x)"
   ]
  },
  {
   "cell_type": "code",
   "execution_count": 21,
   "id": "dd37d067",
   "metadata": {},
   "outputs": [],
   "source": [
    "# Solving the system Hx=b using QR decomposition method.\n",
    "# For n, a nxn hilbert matrix H and a 1xn vector b, populated with the numerical value of one.\n",
    "def solve_Hxbnew_QR(n):\n",
    "    b = np.ones((n,1))\n",
    "    # Change the first value of vector b ever so slightly.\n",
    "    bnew = b\n",
    "    bnew[0] = 1 + 10**(-15)\n",
    "    H = hilbert(n)\n",
    "    xnew = solve_Axb_QR(H,bnew)\n",
    "    return xnew"
   ]
  },
  {
   "cell_type": "code",
   "execution_count": 22,
   "id": "239f62be",
   "metadata": {},
   "outputs": [
    {
     "name": "stdout",
     "output_type": "stream",
     "text": [
      "[  3. -24.  30.]\n"
     ]
    }
   ],
   "source": [
    "n = 3\n",
    "xnew = solve_Hxbnew_QR(n)\n",
    "print(xnew)"
   ]
  },
  {
   "cell_type": "code",
   "execution_count": 23,
   "id": "66fd29d8",
   "metadata": {},
   "outputs": [
    {
     "name": "stdout",
     "output_type": "stream",
     "text": [
      "6.394884621840902e-14\n"
     ]
    }
   ],
   "source": [
    "# Printing the 'error', specifically the differnce between x and xnew, \n",
    "# using QR factorization method for values of n that are considered 'small'.\n",
    "print(error_x_xnew(x,xnew))"
   ]
  },
  {
   "cell_type": "markdown",
   "id": "0cd33da4",
   "metadata": {},
   "source": [
    "<font size=\"3\"> As we can see, for small values of n, solving the system using both LU and QR methods yields very similar reuslts. </font>"
   ]
  },
  {
   "cell_type": "markdown",
   "id": "fbffcfd4",
   "metadata": {},
   "source": [
    "<font size=\"3\"> What will happen if the number of rows and columns of matrix H becomes 100? \n",
    "Will the previous results hold true in that case? </font>"
   ]
  },
  {
   "cell_type": "code",
   "execution_count": 24,
   "id": "652868ae",
   "metadata": {},
   "outputs": [
    {
     "name": "stdout",
     "output_type": "stream",
     "text": [
      "[ 1.48299679e+01 -2.60459035e+03  1.08702648e+05 -1.85459812e+06\n",
      "  1.55054203e+07 -6.43562142e+07  9.04429900e+07  2.55199804e+08\n",
      " -1.11212015e+09  7.80883040e+08  2.79174137e+09 -6.01833936e+09\n",
      "  3.41507355e+09  1.60226177e+08  1.04767044e+09 -1.18145274e+09\n",
      " -8.22012345e+08  8.63368422e+08 -4.18576653e+07 -3.20323150e+09\n",
      "  3.10904534e+09  4.66326547e+07  3.26630496e+09 -9.94693833e+08\n",
      " -1.87949135e+09 -2.56098970e+09  3.25260046e+08 -2.60952873e+09\n",
      "  3.75288533e+09  2.10173080e+09 -6.47292177e+09  1.03997537e+10\n",
      " -1.27766157e+08  9.59240181e+08 -7.41617562e+09 -1.94634236e+09\n",
      "  2.29245085e+09 -8.30953570e+08  1.14754870e+09 -6.25253005e+09\n",
      "  1.55374873e+09  1.73041518e+09  4.69353288e+09  2.90662022e+09\n",
      " -6.28594814e+08  3.37239424e+09 -4.36904264e+09  1.99791892e+09\n",
      " -1.19805089e+09 -6.21013176e+09 -1.17716240e+09  2.80524804e+09\n",
      "  1.69178569e+09 -7.40053222e+09  2.82387784e+09  3.77789834e+09\n",
      "  3.73098579e+09  2.95246331e+09 -2.84021543e+09 -8.15699488e+09\n",
      " -4.22016162e+09 -1.23560326e+09  6.07858138e+09  3.72553923e+09\n",
      "  3.69578987e+09  6.76740983e+09 -4.60984255e+09  3.77222118e+09\n",
      " -3.88386579e+09  5.73640084e+09 -7.82267357e+09 -1.27430187e+10\n",
      "  5.26979448e+09 -7.20558045e+09  2.11509387e+09  1.06577773e+10\n",
      "  3.59256952e+09 -4.37408731e+09 -5.26531573e+09  3.44579625e+09\n",
      " -7.45422887e+08 -1.56984732e+09  9.94916568e+08  5.16723077e+09\n",
      "  5.93496271e+09 -7.20845367e+09  1.49432038e+08 -3.75093748e+09\n",
      "  7.06669585e+09 -4.77886586e+09  2.65090060e+09 -7.06386051e+09\n",
      "  3.85371632e+09  1.48466096e+07 -2.25184771e+09  2.48351617e+09\n",
      " -1.89243413e+09  8.80206634e+09 -9.98193614e+09  3.28788196e+09]\n"
     ]
    }
   ],
   "source": [
    "# Solving the system Hx=b using LU decomposition method.\n",
    "# For n=100, a 100x100 hilbert matrix H and a 1x100 vector b, populated with the numerical value of one.\n",
    "n = 100\n",
    "x = solve_Hxb_LU(n)\n",
    "print(x)"
   ]
  },
  {
   "cell_type": "code",
   "execution_count": 25,
   "id": "08ce5a8f",
   "metadata": {},
   "outputs": [
    {
     "name": "stdout",
     "output_type": "stream",
     "text": [
      "[ 1.48299732e+01 -2.60459066e+03  1.08702655e+05 -1.85459820e+06\n",
      "  1.55054207e+07 -6.43562150e+07  9.04429862e+07  2.55199829e+08\n",
      " -1.11212021e+09  7.80883112e+08  2.79174133e+09 -6.01833935e+09\n",
      "  3.41507357e+09  1.60226134e+08  1.04767040e+09 -1.18145263e+09\n",
      " -8.22012402e+08  8.63368490e+08 -4.18578168e+07 -3.20323141e+09\n",
      "  3.10904532e+09  4.66327327e+07  3.26630489e+09 -9.94693921e+08\n",
      " -1.87949128e+09 -2.56098967e+09  3.25260043e+08 -2.60952859e+09\n",
      "  3.75288523e+09  2.10173069e+09 -6.47292165e+09  1.03997536e+10\n",
      " -1.27766195e+08  9.59240144e+08 -7.41617559e+09 -1.94634233e+09\n",
      "  2.29245076e+09 -8.30953634e+08  1.14754881e+09 -6.25252995e+09\n",
      "  1.55374878e+09  1.73041524e+09  4.69353281e+09  2.90662028e+09\n",
      " -6.28594873e+08  3.37239412e+09 -4.36904266e+09  1.99791881e+09\n",
      " -1.19805080e+09 -6.21013191e+09 -1.17716231e+09  2.80524811e+09\n",
      "  1.69178562e+09 -7.40053203e+09  2.82387763e+09  3.77789854e+09\n",
      "  3.73098573e+09  2.95246325e+09 -2.84021540e+09 -8.15699475e+09\n",
      " -4.22016157e+09 -1.23560327e+09  6.07858136e+09  3.72553916e+09\n",
      "  3.69578984e+09  6.76740980e+09 -4.60984258e+09  3.77222118e+09\n",
      " -3.88386576e+09  5.73640072e+09 -7.82267367e+09 -1.27430184e+10\n",
      "  5.26979430e+09 -7.20558044e+09  2.11509383e+09  1.06577774e+10\n",
      "  3.59256958e+09 -4.37408712e+09 -5.26531575e+09  3.44579621e+09\n",
      " -7.45423000e+08 -1.56984728e+09  9.94916782e+08  5.16723071e+09\n",
      "  5.93496262e+09 -7.20845350e+09  1.49431951e+08 -3.75093748e+09\n",
      "  7.06669568e+09 -4.77886600e+09  2.65090059e+09 -7.06386055e+09\n",
      "  3.85371638e+09  1.48467332e+07 -2.25184760e+09  2.48351616e+09\n",
      " -1.89243407e+09  8.80206619e+09 -9.98193602e+09  3.28788188e+09]\n"
     ]
    }
   ],
   "source": [
    "xnew = solve_Hxbnew_LU(n)\n",
    "print(xnew)"
   ]
  },
  {
   "cell_type": "code",
   "execution_count": 26,
   "id": "1ff06398",
   "metadata": {},
   "outputs": [
    {
     "name": "stdout",
     "output_type": "stream",
     "text": [
      "263.5235843658447\n"
     ]
    }
   ],
   "source": [
    "# Printing the 'error', specifically the differnce between x and xnew, \n",
    "# using LU factorization method for values of n that are considered 'big'.\n",
    "print(error_x_xnew(x,xnew))"
   ]
  },
  {
   "cell_type": "code",
   "execution_count": 27,
   "id": "43a14ff6",
   "metadata": {},
   "outputs": [
    {
     "name": "stdout",
     "output_type": "stream",
     "text": [
      "[-2.56372654e+06 -2.61601955e+06  2.19218438e+07 -5.64821931e+05\n",
      "  3.98051046e+06 -2.12218476e+08  3.97984466e+08 -1.24090647e+08\n",
      " -2.08300796e+07  5.02380046e+07 -1.16977208e+08  9.02246213e+06\n",
      " -5.41921009e+06  4.16963087e+07 -3.49267062e+07 -5.39344304e+06\n",
      " -2.63821278e+07 -3.59229721e+07 -4.16717818e+08  5.95089588e+08\n",
      " -1.74739265e+08  8.98901759e+07 -1.27909322e+08 -8.22645220e+07\n",
      "  2.35810115e+08  1.56743489e+06  1.58415995e+07 -6.65486820e+07\n",
      "  2.81749024e+07 -6.54353706e+06 -2.29141139e+07  6.16615739e+07\n",
      " -5.83548671e+07  4.06301847e+08 -3.14357375e+08 -1.91213729e+08\n",
      "  1.26975823e+08  5.50706241e+07 -8.33707088e+07 -1.78116118e+07\n",
      "  2.45917318e+08 -8.60554748e+07 -1.83915330e+08  9.35297248e+07\n",
      "  3.04724322e+07 -7.22024461e+07 -4.46302310e+07  1.26289986e+07\n",
      " -2.20339355e+07  2.23257569e+07  1.63292441e+08 -3.36325623e+08\n",
      "  2.24997638e+08 -2.25873579e+09  2.43693391e+09 -1.29712514e+08\n",
      " -2.45752411e+07 -1.61720744e+08  1.36719375e+08  8.37358229e+07\n",
      "  1.62705941e+09 -1.16909600e+09 -5.31077944e+08  4.53818589e+07\n",
      "  5.89882971e+07  3.10797663e+07 -2.43813622e+08  1.38369543e+08\n",
      "  2.69977695e+08 -4.90518015e+08  2.95275135e+07 -2.74383945e+09\n",
      "  2.85416915e+09  2.50901817e+08  8.19894064e+08 -1.15747979e+09\n",
      "  9.96158613e+07  8.70476976e+08 -8.80584540e+08  1.34398704e+08\n",
      "  2.21594425e+08  2.39846075e+09 -4.47005348e+09  3.09006117e+09\n",
      "  2.86202641e+09  3.50506564e+09  3.11289334e+09  4.27505601e+08\n",
      " -1.36694035e+10 -1.20131337e+11  1.22427881e+11  4.85299828e+09\n",
      " -4.22289417e+09  1.66003661e+09  1.35265753e+10 -2.49547096e+10\n",
      "  6.46529749e+09  2.87233228e+09  2.90946021e+08  2.15583039e+08]\n"
     ]
    }
   ],
   "source": [
    "# Solving the system Hx=b using QR decomposition method.\n",
    "# For n=100, a 100x100 hilbert matrix H and a 1x100 vector b, populated with the numerical value of one.\n",
    "n = 100\n",
    "x = solve_Hxb_QR(n)\n",
    "print(x)"
   ]
  },
  {
   "cell_type": "code",
   "execution_count": 28,
   "id": "428b027e",
   "metadata": {},
   "outputs": [
    {
     "name": "stdout",
     "output_type": "stream",
     "text": [
      "[-2.56372654e+06 -2.61601955e+06  2.19218438e+07 -5.64821931e+05\n",
      "  3.98051046e+06 -2.12218476e+08  3.97984466e+08 -1.24090647e+08\n",
      " -2.08300796e+07  5.02380046e+07 -1.16977208e+08  9.02246213e+06\n",
      " -5.41921009e+06  4.16963087e+07 -3.49267062e+07 -5.39344304e+06\n",
      " -2.63821278e+07 -3.59229721e+07 -4.16717818e+08  5.95089588e+08\n",
      " -1.74739265e+08  8.98901759e+07 -1.27909322e+08 -8.22645220e+07\n",
      "  2.35810115e+08  1.56743489e+06  1.58415995e+07 -6.65486820e+07\n",
      "  2.81749024e+07 -6.54353706e+06 -2.29141139e+07  6.16615739e+07\n",
      " -5.83548671e+07  4.06301847e+08 -3.14357375e+08 -1.91213729e+08\n",
      "  1.26975823e+08  5.50706241e+07 -8.33707088e+07 -1.78116118e+07\n",
      "  2.45917318e+08 -8.60554748e+07 -1.83915330e+08  9.35297248e+07\n",
      "  3.04724322e+07 -7.22024461e+07 -4.46302310e+07  1.26289986e+07\n",
      " -2.20339355e+07  2.23257569e+07  1.63292441e+08 -3.36325623e+08\n",
      "  2.24997638e+08 -2.25873579e+09  2.43693391e+09 -1.29712514e+08\n",
      " -2.45752411e+07 -1.61720744e+08  1.36719375e+08  8.37358229e+07\n",
      "  1.62705941e+09 -1.16909600e+09 -5.31077944e+08  4.53818589e+07\n",
      "  5.89882971e+07  3.10797663e+07 -2.43813622e+08  1.38369543e+08\n",
      "  2.69977695e+08 -4.90518015e+08  2.95275135e+07 -2.74383945e+09\n",
      "  2.85416915e+09  2.50901817e+08  8.19894064e+08 -1.15747979e+09\n",
      "  9.96158613e+07  8.70476976e+08 -8.80584540e+08  1.34398704e+08\n",
      "  2.21594425e+08  2.39846075e+09 -4.47005348e+09  3.09006117e+09\n",
      "  2.86202641e+09  3.50506564e+09  3.11289334e+09  4.27505601e+08\n",
      " -1.36694035e+10 -1.20131337e+11  1.22427881e+11  4.85299828e+09\n",
      " -4.22289417e+09  1.66003661e+09  1.35265753e+10 -2.49547096e+10\n",
      "  6.46529749e+09  2.87233228e+09  2.90946021e+08  2.15583039e+08]\n"
     ]
    }
   ],
   "source": [
    "xnew = solve_Hxbnew_QR(n)\n",
    "print(xnew)"
   ]
  },
  {
   "cell_type": "code",
   "execution_count": 29,
   "id": "2a69144c",
   "metadata": {},
   "outputs": [
    {
     "name": "stdout",
     "output_type": "stream",
     "text": [
      "0.0\n"
     ]
    }
   ],
   "source": [
    "# Printing the 'error', specifically the differnce between x and xnew, \n",
    "# using QR factorization method for values of n that are considered 'big'.\n",
    "print(error_x_xnew(x,xnew))"
   ]
  },
  {
   "cell_type": "markdown",
   "id": "91c22ea3",
   "metadata": {},
   "source": [
    "<font size=\"3\"> Observing the presented information, while the two methods produce almost identical results for small values of n, things change as n gets bigger. Based on the above observations, QR method's error when n was equal to one hundred was zero, or almost zero, while LU's error was approximately 263.  Therefore, it's safe to say that QR method is more stable and yields results that exhibit greater accuracy irrespective of the value of n.</font>"
   ]
  },
  {
   "cell_type": "markdown",
   "id": "14675e1d",
   "metadata": {},
   "source": [
    "<font size=\"3\"> (d) This conclusion can be dipicted better via the help of matplotlib.pyplot python package as seen below. </font>"
   ]
  },
  {
   "cell_type": "code",
   "execution_count": 30,
   "id": "3372e2d9",
   "metadata": {},
   "outputs": [],
   "source": [
    "import matplotlib.pyplot as plt\n",
    "\n",
    "# Function to annotate the maximum y value and the corresponding x.\n",
    "def annot_max(x,y, ax=None):\n",
    "    xmax = x[0,np.argmax(y)]\n",
    "    ymax = y.max()\n",
    "    text= \"x={:.3f}, y={:.3f}\".format(xmax, ymax)\n",
    "    if not ax:\n",
    "        ax=plt.gca()\n",
    "    bbox_props = dict(boxstyle=\"square,pad=0.3\", fc=\"w\", ec=\"k\", lw=0.72)\n",
    "    arrowprops=dict(arrowstyle=\"->\",connectionstyle=\"angle,angleA=0,angleB=60\")\n",
    "    kw = dict(xycoords='data',textcoords=\"axes fraction\",\n",
    "              arrowprops=dict(facecolor='black', shrink=0.15))\n",
    "    ax.annotate(text, xy=(xmax, ymax), xytext=(0.94,0.96), **kw)"
   ]
  },
  {
   "cell_type": "code",
   "execution_count": 31,
   "id": "aa518c99",
   "metadata": {},
   "outputs": [],
   "source": [
    "import matplotlib.pyplot as plt\n",
    "\n",
    "# Function to create the plot using LU factorization. On x axis we have the dimention n of the hilbert matrix H, \n",
    "# and on the y axis the maximum absolute value of the difference between the two vectors, x and xnew, as we did before.\n",
    "def plot_xY_nNormHxb_LU(n):\n",
    "    plt.title('PLOT A: Using LU method')\n",
    "    font1 = {'family':'serif','color':'blue','size':18}\n",
    "    plt.ylabel('Max (|x - xnew|)',fontdict = font1)\n",
    "    plt.xlabel('n',fontdict = font1)\n",
    "    \n",
    "    xpoints = np.zeros((1,n))\n",
    "    ypoints = np.zeros((1,n))\n",
    "\n",
    "    for i in range(n):\n",
    "        xpoints[0,i] = i+1\n",
    "        x = solve_Hxb_LU(i+1)\n",
    "        xnew = solve_Hxbnew_LU(i+1)\n",
    "        ypoints[0,i] = np.max(np.abs(np.subtract(x,xnew)))\n",
    "    \n",
    "    plt.plot(xpoints, ypoints)\n",
    "    annot_max(xpoints, ypoints)\n",
    "\n",
    "    x_min = xpoints[0]\n",
    "    y_min = ypoints[0]\n",
    "    plt.plot(x_min, y_min, marker='o')\n",
    "    plt.grid()\n",
    "    plt.show()"
   ]
  },
  {
   "cell_type": "code",
   "execution_count": 32,
   "id": "d5905b5e",
   "metadata": {},
   "outputs": [
    {
     "data": {
      "image/png": "[encoded data removed]",
      "text/plain": [
       "<Figure size 640x480 with 1 Axes>"
      ]
     },
     "metadata": {},
     "output_type": "display_data"
    }
   ],
   "source": [
    "n = 100\n",
    "plot_xY_nNormHxb_LU(n)"
   ]
  },
  {
   "cell_type": "code",
   "execution_count": 33,
   "id": "ef751f72",
   "metadata": {},
   "outputs": [],
   "source": [
    "import matplotlib.pyplot as plt\n",
    "\n",
    "# Function to create the plot using QR factorization. On x axis we have the dimention n of the hilbert matrix H, \n",
    "# and on the y axis the maximum absolute value of the difference between the two vectors, x and xnew, as we did before.\n",
    "def plot_xY_nNormHxb_QR(n):\n",
    "    plt.title('PLOT B: Using QR method')\n",
    "    font1 = {'family':'serif','color':'blue','size':18}\n",
    "    plt.ylabel('Max (|x - xnew|)',fontdict = font1)\n",
    "    plt.xlabel('n',fontdict = font1)\n",
    "    \n",
    "    xpoints = np.zeros((1,n))\n",
    "    ypoints = np.zeros((1,n))\n",
    "\n",
    "    for i in range(n):\n",
    "        xpoints[0,i] = i+1\n",
    "        x = solve_Hxb_QR(i+1)\n",
    "        xnew = solve_Hxbnew_QR(i+1)\n",
    "        ypoints[0,i] = np.max(np.abs(np.subtract(x,xnew)))\n",
    "    \n",
    "    plt.plot(xpoints, ypoints)\n",
    "    annot_max(xpoints, ypoints)\n",
    "\n",
    "    x_min = xpoints[0]\n",
    "    y_min = ypoints[0]\n",
    "    plt.plot(x_min, y_min, marker='o')\n",
    "    plt.grid()\n",
    "    plt.show()"
   ]
  },
  {
   "cell_type": "code",
   "execution_count": 34,
   "id": "0b6e22bf",
   "metadata": {},
   "outputs": [
    {
     "data": {
      "image/png": "[encoded data removed]",
      "text/plain": [
       "<Figure size 640x480 with 1 Axes>"
      ]
     },
     "metadata": {},
     "output_type": "display_data"
    }
   ],
   "source": [
    "n = 100\n",
    "plot_xY_nNormHxb_QR(n)"
   ]
  },
  {
   "cell_type": "markdown",
   "id": "c4371e54",
   "metadata": {},
   "source": [
    "## (e) Calculating the difference between identity matrix I and H*inv(H) for varying values of n."
   ]
  },
  {
   "cell_type": "code",
   "execution_count": 35,
   "id": "8ce13089",
   "metadata": {},
   "outputs": [
    {
     "name": "stdout",
     "output_type": "stream",
     "text": [
      "[[1. 0. 0.]\n",
      " [0. 1. 0.]\n",
      " [0. 0. 1.]]\n"
     ]
    }
   ],
   "source": [
    "# For n=3, a 3x3 hilbert matrix H and a 3x3 identity matrix I.\n",
    "n = 3\n",
    "x = np.identity(n)\n",
    "print(x)"
   ]
  },
  {
   "cell_type": "code",
   "execution_count": 36,
   "id": "71de8716",
   "metadata": {},
   "outputs": [
    {
     "name": "stdout",
     "output_type": "stream",
     "text": [
      "[[ 1.00000000e+00  0.00000000e+00  0.00000000e+00]\n",
      " [ 8.88178420e-16  1.00000000e+00  0.00000000e+00]\n",
      " [ 0.00000000e+00 -7.10542736e-15  1.00000000e+00]]\n"
     ]
    }
   ],
   "source": [
    "xnew = hilbert(n) @ np.linalg.inv(hilbert(n))\n",
    "print(xnew)"
   ]
  },
  {
   "cell_type": "code",
   "execution_count": 37,
   "id": "c7f79240",
   "metadata": {},
   "outputs": [
    {
     "name": "stdout",
     "output_type": "stream",
     "text": [
      "1.0087767680389479e-14\n"
     ]
    }
   ],
   "source": [
    "print(np.linalg.norm(np.subtract(x,xnew)))"
   ]
  },
  {
   "cell_type": "code",
   "execution_count": 38,
   "id": "c915677b",
   "metadata": {},
   "outputs": [
    {
     "name": "stdout",
     "output_type": "stream",
     "text": [
      "[[1. 0. 0. ... 0. 0. 0.]\n",
      " [0. 1. 0. ... 0. 0. 0.]\n",
      " [0. 0. 1. ... 0. 0. 0.]\n",
      " ...\n",
      " [0. 0. 0. ... 1. 0. 0.]\n",
      " [0. 0. 0. ... 0. 1. 0.]\n",
      " [0. 0. 0. ... 0. 0. 1.]]\n"
     ]
    }
   ],
   "source": [
    "# For n=100, a 100x100 hilbert matrix H and a 100x100 identity matrix I.\n",
    "n = 100\n",
    "x = np.identity(n)\n",
    "print(x)"
   ]
  },
  {
   "cell_type": "code",
   "execution_count": 39,
   "id": "fa5d7ba1",
   "metadata": {},
   "outputs": [
    {
     "name": "stdout",
     "output_type": "stream",
     "text": [
      "[[ 9.99999933e-01 -2.88354882e-05 -6.88552488e-04 ...  1.84375000e+00\n",
      "   6.96875000e+00  7.87109375e+00]\n",
      " [ 6.84861810e-08  9.99997096e-01 -5.02010171e-04 ...  4.16406250e+00\n",
      "   1.55312500e+01  5.95703125e+00]\n",
      " [ 1.63201924e-07 -5.22342328e-06  1.00074282e+00 ...  3.32812500e+00\n",
      "   5.62500000e-01  1.62890625e+00]\n",
      " ...\n",
      " [ 4.64248942e-09  2.30406905e-06  3.80268791e-08 ...  1.22656250e+00\n",
      "   1.48437500e+00 -5.60546875e-01]\n",
      " [-2.71140026e-08 -9.20815207e-07 -2.30143009e-04 ... -1.52343750e+00\n",
      "   1.07812500e+00 -1.12109375e+00]\n",
      " [-1.49617069e-08  3.58934948e-06 -3.52039877e-04 ... -1.31250000e+00\n",
      "   2.84375000e+00  4.49218750e-01]]\n"
     ]
    }
   ],
   "source": [
    "xnew = hilbert(n) @ np.linalg.inv(hilbert(n))\n",
    "print(xnew)"
   ]
  },
  {
   "cell_type": "code",
   "execution_count": 40,
   "id": "fc4dea7f",
   "metadata": {},
   "outputs": [
    {
     "name": "stdout",
     "output_type": "stream",
     "text": [
      "262.48377200586737\n"
     ]
    }
   ],
   "source": [
    "print(np.linalg.norm(np.subtract(x,xnew)))"
   ]
  },
  {
   "cell_type": "markdown",
   "id": "25fb9b3c",
   "metadata": {},
   "source": [
    "<font size=\"3\"> As we can see, as the number n increases, the value of the norm between the two vectors, x and xnew, increases as well. </font>"
   ]
  },
  {
   "cell_type": "code",
   "execution_count": 41,
   "id": "1ecf97fa",
   "metadata": {},
   "outputs": [],
   "source": [
    "import matplotlib.pyplot as plt\n",
    "\n",
    "# Function to create the plot:\n",
    "# At x axis we have the dimention of the hilbert and identity matrices H and I, n\n",
    "# and on the y axis the value of the norm between two vectors, x and xnew.\n",
    "def plot_xY_nNormHinvA(n):\n",
    "    plt.title('PLOT B')\n",
    "    font1 = {'family':'serif','color':'blue','size':18}\n",
    "    plt.ylabel('Norm (I - HH^-1)',fontdict = font1)\n",
    "    plt.xlabel('n',fontdict = font1)\n",
    "    \n",
    "    xpoints = np.zeros((1,n))\n",
    "    ypoints = np.zeros((1,n))\n",
    "\n",
    "    for i in range(n):\n",
    "        xpoints[0,i] = i+1\n",
    "        x = np.identity(i+1)\n",
    "        xnew = hilbert(i+1) @ np.linalg.inv(hilbert(i+1))\n",
    "        ypoints[0,i] = np.linalg.norm(np.subtract(x,xnew))\n",
    "    \n",
    "    plt.plot(xpoints, ypoints)\n",
    "    annot_max(xpoints, ypoints)\n",
    "\n",
    "    x_min = xpoints[0]\n",
    "    y_min = ypoints[0]\n",
    "    plt.plot(x_min, y_min, marker='o')\n",
    "   \n",
    "    plt.grid()\n",
    "    plt.show()"
   ]
  },
  {
   "cell_type": "code",
   "execution_count": 42,
   "id": "353ff2f7",
   "metadata": {},
   "outputs": [
    {
     "data": {
      "image/png": "[encoded data removed]",
      "text/plain": [
       "<Figure size 640x480 with 1 Axes>"
      ]
     },
     "metadata": {},
     "output_type": "display_data"
    }
   ],
   "source": [
    "n = 100\n",
    "plot_xY_nNormHinvA(n)"
   ]
  },
  {
   "cell_type": "markdown",
   "id": "955130dc",
   "metadata": {},
   "source": [
    "# <font color = 'red'> <u> PART B:</u> </font>"
   ]
  },
  {
   "cell_type": "markdown",
   "id": "abd98610",
   "metadata": {},
   "source": [
    "## Constructing a fourth-degree polynomial that optimally approximates the function:      \n",
    "## y = cos(4t) + 0, 1e(t), using 50 equidistant points ranging between 0 and 1."
   ]
  },
  {
   "cell_type": "markdown",
   "id": "4dc666b7",
   "metadata": {},
   "source": [
    "<font size=\"3\"> e(t): a function that generates white noise values based on the Normal distribution. </font>"
   ]
  },
  {
   "cell_type": "code",
   "execution_count": 43,
   "id": "fb4d9581",
   "metadata": {},
   "outputs": [],
   "source": [
    "# Creating a 4th degree polynomial.\n",
    "def fourth_deg_poly(x, a, b, c, d, e):\n",
    "    y = a + b*x + c*(x**2) + d*(x**3) + e*(x**4)\n",
    "    return y"
   ]
  },
  {
   "cell_type": "code",
   "execution_count": 44,
   "id": "3e8635a6",
   "metadata": {},
   "outputs": [],
   "source": [
    "from scipy import optimize\n",
    "\n",
    "# Using scipy.optimize package to find the values of the coefficients so that the poly optimally approximates the function y.\n",
    "def least_squares(t,y):    \n",
    "    alpha = optimize.curve_fit(fourth_deg_poly, xdata = t, ydata = y)[0]\n",
    "    return alpha"
   ]
  },
  {
   "cell_type": "code",
   "execution_count": 45,
   "id": "68fb5dd7",
   "metadata": {},
   "outputs": [],
   "source": [
    "# Plotting the results.\n",
    "def plot_poly(t,y):\n",
    "    alpha = least_squares(t,y)\n",
    "    font1 = {'family':'serif','color':'blue','size':18}\n",
    "    plt.figure(figsize = (10,8))\n",
    "    plt.plot(t, y, 'b.')\n",
    "    plt.plot(t, alpha[0] + alpha[1]*t + alpha[2]*(t**2) + alpha[3]*(t**3) + alpha[4]*(t**4), 'r')\n",
    "    plt.xlabel('t',fontdict = font1)\n",
    "    plt.ylabel('y = cos(4t) + 0, 1e(t)',fontdict = font1)"
   ]
  },
  {
   "cell_type": "code",
   "execution_count": 46,
   "id": "aba59a96",
   "metadata": {},
   "outputs": [
    {
     "name": "stdout",
     "output_type": "stream",
     "text": [
      "[  1.01079651  -0.12346927 -10.12261923  10.26474742  -1.64771284]\n"
     ]
    },
    {
     "data": {
      "image/png": "[encoded data removed]",
      "text/plain": [
       "<Figure size 1000x800 with 1 Axes>"
      ]
     },
     "metadata": {},
     "output_type": "display_data"
    }
   ],
   "source": [
    "# Creating the values for (t,y(t)), where y = cos(4t) + 0,1e(t). Printing and plotting the results.\n",
    "t = np.linspace(0,1,num = 50)\n",
    "y = np.cos(4*t) + 0.1 * np.random.randn(t.shape[0])\n",
    "print(least_squares(t,y))\n",
    "plot_poly(t,y)"
   ]
  },
  {
   "cell_type": "code",
   "execution_count": 47,
   "id": "5f42fe2a",
   "metadata": {},
   "outputs": [],
   "source": [
    "# Constructing a function that calculates the least squares error based on the: r(x)**2 = ||b - Ax||**2,\n",
    "# where r is the error.\n",
    "def least_squares_error(polyDeg,t,y):\n",
    "    alpha = least_squares(t,y)\n",
    "    x = alpha[0]\n",
    "    for i in range(1,polyDeg+1):\n",
    "        x = x + alpha[i]*(t**i)\n",
    "    r = (np.linalg.norm(np.abs(y - x)))**2\n",
    "    return r    "
   ]
  },
  {
   "cell_type": "code",
   "execution_count": 48,
   "id": "6e93b7bc",
   "metadata": {},
   "outputs": [
    {
     "name": "stdout",
     "output_type": "stream",
     "text": [
      "0.5834846870708913\n"
     ]
    }
   ],
   "source": [
    "polyDeg = 4\n",
    "t = np.linspace(0,1,num = 50)\n",
    "y = np.cos(4*t) + 0.1 * np.random.randn(t.shape[0])\n",
    "print(least_squares_error(polyDeg,t,y))"
   ]
  },
  {
   "cell_type": "markdown",
   "id": "ce0f7c6f",
   "metadata": {},
   "source": [
    "## Finding the answer to the same problem ''manually'', using least squares method, by solving the system: trans(A)*A = trans(A)*b, using LU and QR decomposition."
   ]
  },
  {
   "cell_type": "code",
   "execution_count": 49,
   "id": "a5bb43c5",
   "metadata": {},
   "outputs": [],
   "source": [
    "# Creating matrix A and b.\n",
    "def matrix_A_b(polyDeg,t,y):\n",
    "    A = np.ones((len(t),polyDeg+1))\n",
    "    b = np.zeros((len(t),1))\n",
    "    for j in range(1,polyDeg+1):\n",
    "        for i in range(len(t)):\n",
    "            A[i,j] = (t[i])**j\n",
    "    b = y\n",
    "    return A,b            "
   ]
  },
  {
   "cell_type": "code",
   "execution_count": 50,
   "id": "3d64e521",
   "metadata": {},
   "outputs": [],
   "source": [
    "# Finding the values of the coefficients so that the poly optimally approximates the function y,\n",
    "# by solving: trans(A)*A = trans(A)*b with LU method.\n",
    "def least_squares_manually_LU(polyDeg,t,y):\n",
    "    A,b = matrix_A_b(polyDeg,t,y)\n",
    "    C = np.transpose(A) @ A\n",
    "    b = np.reshape(b,(len(b),1))\n",
    "    d = np.transpose(A) @ b\n",
    "    alpha = solve_Axb_LU(C,d)\n",
    "    return alpha"
   ]
  },
  {
   "cell_type": "code",
   "execution_count": 51,
   "id": "93ab96c4",
   "metadata": {},
   "outputs": [],
   "source": [
    "# Finding the values of the coefficients so that the poly optimally approximates the function y,\n",
    "# by solving: trans(A)*A = trans(A)*b with QR method.\n",
    "def least_squares_manually_QR(polyDeg,t,y):\n",
    "    A,b = matrix_A_b(polyDeg,t,y)\n",
    "    C = np.transpose(A) @ A\n",
    "    b = np.reshape(b,(len(b),1))\n",
    "    d = np.transpose(A) @ b\n",
    "    beta = solve_Axb_QR(C,d)\n",
    "    return beta"
   ]
  },
  {
   "cell_type": "code",
   "execution_count": 52,
   "id": "2e6b48d1",
   "metadata": {},
   "outputs": [],
   "source": [
    "# Constructing a function that calculates the least squares error based on the: r(x)**2 = ||b - Ax||**2,\n",
    "# using LU method, where r is the error.\n",
    "def least_squares_error_manually_LU(polyDeg,alpha,y):\n",
    "    x = alpha[0]\n",
    "    for i in range(1,polyDeg+1):\n",
    "        x = x + alpha[i]*(t**i)\n",
    "    r = (np.linalg.norm(np.abs(y - x)))**2\n",
    "    return r"
   ]
  },
  {
   "cell_type": "code",
   "execution_count": 53,
   "id": "e3cbba9a",
   "metadata": {},
   "outputs": [],
   "source": [
    "# Constructing a function that calculates the least squares error based on the: r(x)**2 = ||b - Ax||**2,\n",
    "# using QR method, where r is the error.\n",
    "def least_squares_error_manually_QR(polyDeg,beta,y):\n",
    "    x = beta[0]\n",
    "    for i in range(1,polyDeg+1):\n",
    "        x = x + beta[i]*(t**i)\n",
    "    r = (np.linalg.norm(np.abs(y - x)))**2\n",
    "    return r"
   ]
  },
  {
   "cell_type": "code",
   "execution_count": 54,
   "id": "a07dcca1",
   "metadata": {
    "scrolled": true
   },
   "outputs": [
    {
     "name": "stdout",
     "output_type": "stream",
     "text": [
      "[ 1.06690688 -1.25278261 -5.2601941   3.39329874  1.36001892]\n",
      "0.44137069332716156\n",
      "\n",
      "\n",
      "[ 1.06690688 -1.25278261 -5.2601941   3.39329874  1.36001892]\n",
      "0.441370693327162\n"
     ]
    }
   ],
   "source": [
    "# Testing the functions above: \n",
    "polyDeg = 4\n",
    "t = np.linspace(0,1,num = 50)\n",
    "y = np.cos(4*t) + 0.1 * np.random.randn(t.shape[0])\n",
    "\n",
    "# Using LU decomposition method.\n",
    "alpha = least_squares_manually_LU(polyDeg,t,y)\n",
    "print(alpha)\n",
    "print(least_squares_error_manually_LU(polyDeg,alpha,y))\n",
    "\n",
    "print(\"\\n\")\n",
    "\n",
    "# Using QR decomposition method.\n",
    "beta = least_squares_manually_QR(polyDeg,t,y)\n",
    "print(beta)\n",
    "print(least_squares_error_manually_QR(polyDeg,beta,y))"
   ]
  },
  {
   "cell_type": "markdown",
   "id": "4ad4efe7",
   "metadata": {},
   "source": [
    "<font size=\"3\"> As we can see the error between the two methods differs ever so slightly. </font>"
   ]
  }
 ],
 "metadata": {
  "kernelspec": {
   "display_name": "Python 3 (ipykernel)",
   "language": "python",
   "name": "python3"
  },
  "language_info": {
   "codemirror_mode": {
    "name": "ipython",
    "version": 3
   },
   "file_extension": ".py",
   "mimetype": "text/x-python",
   "name": "python",
   "nbconvert_exporter": "python",
   "pygments_lexer": "ipython3",
   "version": "3.10.9"
  }
 },
 "nbformat": 4,
 "nbformat_minor": 5
}
